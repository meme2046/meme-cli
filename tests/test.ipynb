{
 "cells": [
  {
   "cell_type": "code",
   "execution_count": 22,
   "metadata": {},
   "outputs": [
    {
     "name": "stdout",
     "output_type": "stream",
     "text": [
      "2024-10-19 01:35:54 Saturday EDT\n"
     ]
    }
   ],
   "source": [
    "from datetime import datetime\n",
    "\n",
    "import pytz\n",
    "\n",
    "usa_tz = pytz.timezone(\"America/New_York\")  # 使用纽约时间作为参考\n",
    "now = datetime.now(usa_tz)\n",
    "print(f\"{now.strftime('%Y-%m-%d %H:%M:%S %A %Z')}\")"
   ]
  },
  {
   "cell_type": "code",
   "execution_count": 10,
   "metadata": {},
   "outputs": [
    {
     "data": {
      "text/plain": [
       "'北京时间: 2024年10月19日 13时43分39秒 星期六'"
      ]
     },
     "execution_count": 10,
     "metadata": {},
     "output_type": "execute_result"
    }
   ],
   "source": [
    "beijing_tz = pytz.timezone(\"Asia/Shanghai\")\n",
    "beijing_time = datetime.now(beijing_tz)\n",
    "\n",
    "weekdays = [\"星期一\", \"星期二\", \"星期三\", \"星期四\", \"星期五\", \"星期六\", \"星期日\"]\n",
    "weekday = weekdays[beijing_time.weekday()]\n",
    "\n",
    "f\"北京时间: {beijing_time.year}年{beijing_time.month:02d}月{beijing_time.day:02d}日 {beijing_time.hour:02d}时{beijing_time.minute:02d}分{beijing_time.second:02d}秒 {weekday}\""
   ]
  },
  {
   "cell_type": "code",
   "execution_count": 53,
   "metadata": {},
   "outputs": [
    {
     "name": "stdout",
     "output_type": "stream",
     "text": [
      "2024年10月19日 06:02:07 星期六 GMT+00:00 协调世界时\n",
      "2024年10月19日 14:02:07 星期六 GMT+08:00 中国标准时间\n",
      "2024年10月19日 02:02:07 星期六 GMT-04:00 北美东部夏令时间\n"
     ]
    }
   ],
   "source": [
    "from datetime import datetime\n",
    "\n",
    "import pytz\n",
    "from babel.dates import format_datetime\n",
    "\n",
    "\n",
    "def strf_time(zone: str):\n",
    "    tz = pytz.timezone(zone)\n",
    "    now = datetime.now(tz)\n",
    "    # locale=\"zh_CN\" 会使月份和星期的名称显示为中文\n",
    "    # locale=\"en_US\" 则会显示为英文\n",
    "    return format_datetime(\n",
    "        now, \"yyyy年MM月dd日 HH:mm:ss EEEE ZZZZ zzzz\", locale=\"zh_CN\"\n",
    "    )\n",
    "\n",
    "\n",
    "t0 = strf_time(\"UTC\")\n",
    "t1 = strf_time(\"America/New_York\")\n",
    "t2 = strf_time(\"Asia/Shanghai\")\n",
    "\n",
    "print(t0)\n",
    "print(t1)\n",
    "print(t2)\n"
   ]
  }
 ],
 "metadata": {
  "kernelspec": {
   "display_name": ".venv",
   "language": "python",
   "name": "python3"
  },
  "language_info": {
   "codemirror_mode": {
    "name": "ipython",
    "version": 3
   },
   "file_extension": ".py",
   "mimetype": "text/x-python",
   "name": "python",
   "nbconvert_exporter": "python",
   "pygments_lexer": "ipython3",
   "version": "3.10.15"
  }
 },
 "nbformat": 4,
 "nbformat_minor": 2
}
